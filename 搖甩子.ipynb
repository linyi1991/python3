{
  "nbformat": 4,
  "nbformat_minor": 0,
  "metadata": {
    "colab": {
      "name": "搖甩子.ipynb",
      "provenance": [],
      "authorship_tag": "ABX9TyOMT0x6IlDZ0LURoRbShkqW",
      "include_colab_link": true
    },
    "kernelspec": {
      "name": "python3",
      "display_name": "Python 3"
    }
  },
  "cells": [
    {
      "cell_type": "markdown",
      "metadata": {
        "id": "view-in-github",
        "colab_type": "text"
      },
      "source": [
        "<a href=\"https://colab.research.google.com/github/theoyu13/python3/blob/master/%E6%90%96%E7%94%A9%E5%AD%90.ipynb\" target=\"_parent\"><img src=\"https://colab.research.google.com/assets/colab-badge.svg\" alt=\"Open In Colab\"/></a>"
      ]
    },
    {
      "cell_type": "code",
      "metadata": {
        "id": "IldarPYq3ym1",
        "colab_type": "code",
        "colab": {
          "base_uri": "https://localhost:8080/",
          "height": 34
        },
        "outputId": "2ae76abf-1480-412d-909a-da146dedc9e2"
      },
      "source": [
        "from random import randint\n",
        "\n",
        "def roll_dice(n=2):\n",
        "    total = 0\n",
        "    for _ in range(n):\n",
        "        total += randint(1, 6)\n",
        "    return total\n",
        "\n",
        "print(roll_dice())"
      ],
      "execution_count": 13,
      "outputs": [
        {
          "output_type": "stream",
          "text": [
            "10\n"
          ],
          "name": "stdout"
        }
      ]
    },
    {
      "cell_type": "code",
      "metadata": {
        "id": "gQYrpUBb4hCQ",
        "colab_type": "code",
        "colab": {}
      },
      "source": [
        ""
      ],
      "execution_count": null,
      "outputs": []
    }
  ]
}