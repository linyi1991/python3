{
  "nbformat": 4,
  "nbformat_minor": 0,
  "metadata": {
    "colab": {
      "name": "猜數字.ipynb",
      "provenance": [],
      "authorship_tag": "ABX9TyOhtUDgLyod53+P6jrsQe+m",
      "include_colab_link": true
    },
    "kernelspec": {
      "name": "python3",
      "display_name": "Python 3"
    }
  },
  "cells": [
    {
      "cell_type": "markdown",
      "metadata": {
        "id": "view-in-github",
        "colab_type": "text"
      },
      "source": [
        "<a href=\"https://colab.research.google.com/github/theoyu13/python3/blob/master/%E7%8C%9C%E6%95%B8%E5%AD%97.ipynb\" target=\"_parent\"><img src=\"https://colab.research.google.com/assets/colab-badge.svg\" alt=\"Open In Colab\"/></a>"
      ]
    },
    {
      "cell_type": "code",
      "metadata": {
        "id": "qSYFHRlUYuyW",
        "colab_type": "code",
        "colab": {}
      },
      "source": [
        "import random\n",
        "answer = random.randint(1,101)\n",
        "count = 0\n",
        "\n",
        "while True:\n",
        "  count += 1\n",
        "  num = float(input('Please input number: '))\n",
        "  if num > answer:\n",
        "    print('小一點')\n",
        "  elif num < answer:\n",
        "    print('大一點')\n",
        "  else:\n",
        "    print('Bingo')\n",
        "    break\n",
        "\n",
        "print(f'您一共輸入了{count}次')"
      ],
      "execution_count": null,
      "outputs": []
    }
  ]
}