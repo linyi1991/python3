{
  "nbformat": 4,
  "nbformat_minor": 0,
  "metadata": {
    "colab": {
      "name": "99乘法表.ipynb",
      "provenance": [],
      "authorship_tag": "ABX9TyO4ouR84Tx61LxRMT5K4hFV",
      "include_colab_link": true
    },
    "kernelspec": {
      "name": "python3",
      "display_name": "Python 3"
    }
  },
  "cells": [
    {
      "cell_type": "markdown",
      "metadata": {
        "id": "view-in-github",
        "colab_type": "text"
      },
      "source": [
        "<a href=\"https://colab.research.google.com/github/theoyu13/python3/blob/master/99%E4%B9%98%E6%B3%95%E8%A1%A8.ipynb\" target=\"_parent\"><img src=\"https://colab.research.google.com/assets/colab-badge.svg\" alt=\"Open In Colab\"/></a>"
      ]
    },
    {
      "cell_type": "code",
      "metadata": {
        "id": "Zv-1U3uaW6R1",
        "colab_type": "code",
        "colab": {}
      },
      "source": [
        "for i in range(1, 10):\n",
        "    for x in range(1, i+1):\n",
        "      print(f'{i}*{x}={i * x}', end='\\t')\n",
        "    print()"
      ],
      "execution_count": null,
      "outputs": []
    }
  ]
}