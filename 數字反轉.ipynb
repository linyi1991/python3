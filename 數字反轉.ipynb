{
  "nbformat": 4,
  "nbformat_minor": 0,
  "metadata": {
    "colab": {
      "name": "數字反轉.ipynb",
      "provenance": [],
      "authorship_tag": "ABX9TyPiMHbaqM3fbSgCtsdoII8y",
      "include_colab_link": true
    },
    "kernelspec": {
      "name": "python3",
      "display_name": "Python 3"
    }
  },
  "cells": [
    {
      "cell_type": "markdown",
      "metadata": {
        "id": "view-in-github",
        "colab_type": "text"
      },
      "source": [
        "<a href=\"https://colab.research.google.com/github/theoyu13/python3/blob/master/%E6%95%B8%E5%AD%97%E5%8F%8D%E8%BD%89.ipynb\" target=\"_parent\"><img src=\"https://colab.research.google.com/assets/colab-badge.svg\" alt=\"Open In Colab\"/></a>"
      ]
    },
    {
      "cell_type": "code",
      "metadata": {
        "id": "lhlsP23GfaSC",
        "colab_type": "code",
        "colab": {
          "base_uri": "https://localhost:8080/",
          "height": 51
        },
        "outputId": "ef300180-9896-45c7-b3d7-94fee6feee8d"
      },
      "source": [
        "num = int(input('輸入任意多個數字: '))\n",
        "reversed_num = 0\n",
        "\n",
        "\n",
        "while num > 0:\n",
        "    reversed_num = reversed_num * 10 + num % 10\n",
        "    num //= 10\n",
        "print(reversed_num)"
      ],
      "execution_count": 10,
      "outputs": [
        {
          "output_type": "stream",
          "text": [
            "輸入任意多個數字: 123\n",
            "321\n"
          ],
          "name": "stdout"
        }
      ]
    },
    {
      "cell_type": "code",
      "metadata": {
        "id": "cJwt-KwhgS0P",
        "colab_type": "code",
        "colab": {
          "base_uri": "https://localhost:8080/",
          "height": 85
        },
        "outputId": "aacd7f9d-9bce-4531-c5ae-af559834f5ce"
      },
      "source": [
        "for num in range(100, 1000):\n",
        "    low = num % 10\n",
        "    mid = num // 10 % 10\n",
        "    high = num // 100\n",
        "    if num == low ** 3 + mid ** 3 + high ** 3:\n",
        "        print(num)"
      ],
      "execution_count": 11,
      "outputs": [
        {
          "output_type": "stream",
          "text": [
            "153\n",
            "370\n",
            "371\n",
            "407\n"
          ],
          "name": "stdout"
        }
      ]
    },
    {
      "cell_type": "code",
      "metadata": {
        "id": "A1ONye1HirGe",
        "colab_type": "code",
        "colab": {}
      },
      "source": [
        ""
      ],
      "execution_count": null,
      "outputs": []
    }
  ]
}